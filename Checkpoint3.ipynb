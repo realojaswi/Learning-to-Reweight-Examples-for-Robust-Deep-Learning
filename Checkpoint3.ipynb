{
  "cells": [
    {
      "cell_type": "code",
      "execution_count": 58,
      "metadata": {
        "id": "np5vIrN6yHMC"
      },
      "outputs": [],
      "source": [
        "import torch\n",
        "import torch.nn as nn\n",
        "from torchvision import datasets,transforms\n",
        "import torch.nn.functional as F\n",
        "import torch.optim as optim\n",
        "import numpy as np\n",
        "import pandas as pd\n",
        "import itertools\n",
        "from torch.utils.data import DataLoader\n",
        "import time\n",
        "import copy\n",
        "import torch.nn.functional as F\n",
        "from torch import autograd\n",
        "from torch.utils.data import DataLoader, Dataset\n",
        "import matplotlib.pyplot as plt\n",
        "from higher import innerloop_ctx as metaloop\n",
        "\n",
        "torch.backends.cudnn.enabled = True\n",
        "torch.backends.cudnn.benchmark = True\n",
        "device= torch.device('cuda' if torch.cuda.is_available() else 'cpu')"
      ]
    },
    {
      "cell_type": "code",
      "execution_count": 59,
      "metadata": {
        "colab": {
          "base_uri": "https://localhost:8080/"
        },
        "id": "veM3JbPyPrY2",
        "outputId": "f3433ec0-c53e-4fcd-8a7b-562f64ed1b3d"
      },
      "outputs": [
        {
          "name": "stdout",
          "output_type": "stream",
          "text": [
            "Unique labels input [0 1 2 3 4 5 6 7 8 9], Count [5923 6742 5958 6131 5842 5421 5918 6265 5851 5949]\n",
            "Unique labels after pruning [4 8], Count [  29 5851]\n",
            "Unique labels input [0 1 2 3 4 5 6 7 8 9], Count [ 980 1135 1032 1010  982  892  958 1028  974 1009]\n",
            "Unique labels after pruning [4 8], Count [982 974]\n",
            "Unique labels input [0 1 2 3 4 5 6 7 8 9], Count [ 980 1135 1032 1010  982  892  958 1028  974 1009]\n",
            "Unique labels after pruning [4 8], Count [982 974]\n"
          ]
        }
      ],
      "source": [
        "transform = transforms.Compose([transforms.ToTensor(), transforms.Normalize((0.1307,), (0.3081,))])\n",
        "\n",
        "mnist_train = datasets.MNIST(root='./data', train=True, download=True)\n",
        "mnist_test = datasets.MNIST(root='./data', train=False, download=True)\n",
        "\n",
        "\n",
        "class CustomDataset(Dataset):\n",
        "    '''returns an imbalanced mnist dataset depending on class_ratios and noise_ratios that you enter '''\n",
        "    def __init__(self, X, y, class_ratios, noise_ratios):\n",
        "        self.X = np.copy(X)\n",
        "        self.y = np.copy(y)\n",
        "        N = len(X)\n",
        "\n",
        "        #  get unique labels and their count in the dataset\n",
        "        self.unique_y, self.y_counts = np.unique(self.y, return_counts=True)\n",
        "        assert len(class_ratios) == len(self.unique_y)\n",
        "        assert len(noise_ratios) == len(self.unique_y)\n",
        "        print(f\"Unique labels input {self.unique_y}, Count {self.y_counts}\")\n",
        "\n",
        "        # normalize class ratio list\n",
        "        self.class_ratios = class_ratios\n",
        "\n",
        "        # prune dataset\n",
        "        for label in self.unique_y:\n",
        "          idx = np.where(self.y == label)[0]\n",
        "          n_samples = min(len(idx),int(self.class_ratios[label] * len(idx)))\n",
        "          to_remove = np.random.choice(idx, len(idx) - n_samples, replace=False)\n",
        "          self.y[to_remove] = -10000\n",
        "        self.X = self.X[self.y!=-10000]\n",
        "        self.y = self.y[self.y!=-10000]\n",
        "\n",
        "        self.unique_y, self.y_counts = np.unique(self.y, return_counts=True)\n",
        "        print(f\"Unique labels after pruning {self.unique_y}, Count {self.y_counts}\")\n",
        "\n",
        "        # add noise to each class\n",
        "        self.noise_ratios = noise_ratios\n",
        "        for label in self.unique_y:\n",
        "          idx = np.where(self.y == label)[0]\n",
        "          n_noise = min(len(idx),int(self.noise_ratios[label] * N))\n",
        "          to_noise = np.random.choice(idx, n_noise, replace=False)\n",
        "          self.y[to_noise] = np.random.choice(self.unique_y, n_noise, replace=True)\n",
        "\n",
        "        self.N_classes = len(self.unique_y)\n",
        "\n",
        "\n",
        "    def __len__(self):\n",
        "        return len(self.X)\n",
        "\n",
        "    def __getitem__(self, idx):\n",
        "        image, label = self.X[idx], self.y[idx]\n",
        "\n",
        "\n",
        "        onehot_label = np.where(self.unique_y == label)[0][0]\n",
        "        onehot_label = torch.tensor(onehot_label, dtype=torch.float32)\n",
        "\n",
        "        image = torch.tensor(image, dtype=torch.float32)/255.0\n",
        "        image = image.unsqueeze(0)\n",
        "\n",
        "        # image= self.transform(image)\n",
        "\n",
        "        return image, onehot_label\n",
        "\n",
        "\n",
        "batch_size = 64\n",
        "labels = mnist_train.targets.numpy()\n",
        "data = mnist_train.data.numpy()\n",
        "test_data = mnist_test.data.numpy()\n",
        "test_labels =  mnist_test.targets.numpy()\n",
        "class_ratios = {0:0, 1:0, 2:0, 3:0, 4:0.005, 5:0, 6:0, 7:0, 8:1, 9:0}\n",
        "noise_ratios = {0:0, 1:0, 2:0, 3:0, 4:0.1, 5:0, 6:0, 7:0, 8:0.1, 9:0}  # noise ratio should be < 1 for each class. If no noise 0\n",
        "\n",
        "class_ratios_test = {0:0, 1:0, 2:0, 3:0, 4:1, 5:0, 6:0, 7:0, 8:1, 9:0}\n",
        "noise_ratios_test = {0:0, 1:0, 2:0, 3:0, 4:0, 5:0, 6:0, 7:0, 8:0, 9:0}  # noise ratio should be < 1 for each class. If no noise 0\n",
        "train_loader = DataLoader(CustomDataset(data, labels, class_ratios,noise_ratios), batch_size=batch_size, shuffle=True)\n",
        "test_loader = DataLoader(CustomDataset(test_data, test_labels, class_ratios_test,noise_ratios_test), batch_size=batch_size, shuffle=False)\n",
        "\n",
        "val_loader = DataLoader(CustomDataset(test_data, test_labels, class_ratios_test,noise_ratios_test), batch_size=batch_size, shuffle=True)\n"
      ]
    },
    {
      "cell_type": "code",
      "execution_count": 60,
      "metadata": {
        "colab": {
          "base_uri": "https://localhost:8080/",
          "height": 471
        },
        "id": "aeS9vjhDTWGk",
        "outputId": "1ace4c9b-2414-413f-bf76-2e0ef6f6cdd1"
      },
      "outputs": [
        {
          "name": "stdout",
          "output_type": "stream",
          "text": [
            "torch.Size([64, 1, 28, 28]) torch.Size([64])\n",
            "tensor(0.)\n"
          ]
        },
        {
          "data": {
            "image/png": "[encoded data removed]",
            "text/plain": [
              "<Figure size 640x480 with 2 Axes>"
            ]
          },
          "metadata": {},
          "output_type": "display_data"
        }
      ],
      "source": [
        "for data, label in train_loader:\n",
        "  break\n",
        "print(data.shape, label.shape)\n",
        "\n",
        "plt.imshow(data[1,0])\n",
        "plt.colorbar()\n",
        "print(label[1])"
      ]
    },
    {
      "cell_type": "code",
      "execution_count": 61,
      "metadata": {
        "colab": {
          "base_uri": "https://localhost:8080/"
        },
        "id": "5pZNw1WdPur4",
        "outputId": "939b5fe2-96e5-4233-b426-47e74598719d"
      },
      "outputs": [
        {
          "name": "stdout",
          "output_type": "stream",
          "text": [
            "torch.Size([100, 1, 28, 28])\n",
            "torch.Size([100])\n"
          ]
        }
      ],
      "source": [
        "# Collect 100 samples of the selected classes from test dataset as validation data\n",
        "X_validation = []\n",
        "y_validation = []\n",
        "\n",
        "for sample in val_loader:\n",
        "    X_validation.append(sample[0])\n",
        "    y_validation.append(sample[1])\n",
        "\n",
        "X_validation = torch.vstack(X_validation)[:100]\n",
        "y_validation = torch.hstack(y_validation)[:100]\n",
        "print(X_validation.shape)\n",
        "print(y_validation.shape)\n"
      ]
    },
    {
      "cell_type": "code",
      "execution_count": 62,
      "metadata": {
        "id": "MTuD04CVyY2H"
      },
      "outputs": [],
      "source": [
        "class SimpleCNN(nn.Module):\n",
        "    def __init__(self, n_out):\n",
        "        super(SimpleCNN, self).__init__()\n",
        "        # convolutional layers\n",
        "        self.conv1 = nn.Conv2d(1, 16, kernel_size=3, stride=1, padding=1)\n",
        "        self.conv2 = nn.Conv2d(16, 32, kernel_size=3, stride=1, padding=1)\n",
        "        self.conv3 = nn.Conv2d(32, 64, kernel_size=3, stride=1, padding=1)\n",
        "        self.conv4 = nn.Conv2d(64, 128, kernel_size=3, stride=1, padding=1)\n",
        "        # fully connected layers\n",
        "        self.fc1 = nn.Linear(128 * 7 * 7, 256)\n",
        "        self.fc2 = nn.Linear(256, 128)\n",
        "        self.fc3 = nn.Linear(128, 64)\n",
        "        self.fc4 = nn.Linear(64, n_out)\n",
        "\n",
        "        #max pooling layers\n",
        "        self.maxpool= nn.MaxPool2d(2)\n",
        "\n",
        "    def forward(self, x):\n",
        "        x = F.relu(self.conv1(x))\n",
        "        x = F.relu(self.conv2(x))\n",
        "        x = self.maxpool(x)\n",
        "        x = F.relu(self.conv3(x))\n",
        "        x = F.relu(self.conv4(x))\n",
        "        x = self.maxpool(x)\n",
        "        x = x.view(-1, 128 * 7 * 7)\n",
        "        x = F.relu(self.fc1(x))\n",
        "        x = F.relu(self.fc2(x))\n",
        "        x = F.relu(self.fc3(x))\n",
        "        x = self.fc4(x).squeeze()\n",
        "        return x"
      ]
    },
    {
      "cell_type": "code",
      "execution_count": 63,
      "metadata": {
        "id": "WS9Lw2nHyslP"
      },
      "outputs": [],
      "source": [
        "class trainer():\n",
        "    def __init__(self, model, train_dataloader, test_dataloader, X_validation, y_validation, device):\n",
        "        self.device= device\n",
        "        self.model= model.to(device)\n",
        "        self.train_dataloader= train_dataloader\n",
        "        self.test_dataloader= test_dataloader\n",
        "        self.X_val= X_validation\n",
        "        self.y_val= y_validation\n",
        "\n",
        "\n",
        "    def train_normal(self, epochs):\n",
        "        '''trains the model using traditional approach'''\n",
        "        # criterion= torch.nn.CrossEntropyLoss()\n",
        "        criterion= torch.nn.BCEWithLogitsLoss().to(device)\n",
        "        optimizer= torch.optim.Adam(self.model.parameters(), lr=0.001)\n",
        "        running_loss_per_epoch=[]\n",
        "        for epoch in range(epochs):\n",
        "            self.model.train()\n",
        "            total_num=0\n",
        "            running_loss= 0\n",
        "            train_acc=0\n",
        "            running_loss_per_batch= []\n",
        "            for i, data in enumerate(self.train_dataloader):\n",
        "                images, labels= data\n",
        "                images= images.to(self.device)\n",
        "                labels= labels.to(self.device)\n",
        "\n",
        "                predicted_logits= self.model(images)\n",
        "                pred_labels= (F.sigmoid(predicted_logits)>0.5).int()\n",
        "                loss= criterion(predicted_logits, labels.type_as(predicted_logits))\n",
        "                optimizer.zero_grad()\n",
        "                loss.backward()\n",
        "                optimizer.step()\n",
        "                running_loss += loss.item()\n",
        "                train_acc += torch.sum(torch.eq(pred_labels, labels)).item()\n",
        "                running_loss_per_batch.append(loss.item())\n",
        "                total_num+= len(images)\n",
        "\n",
        "            running_loss_per_epoch.append(np.mean(running_loss_per_batch))\n",
        "            print(\"[epoch: %d] loss: %.3f    train accuracy: %.3f\" \\\n",
        "                    % (epoch + 1,  running_loss_per_epoch[-1], (train_acc/total_num)*100))\n",
        "            self.test()\n",
        "\n",
        "        return running_loss_per_epoch\n",
        "\n",
        "\n",
        "    def test(self):\n",
        "        criterion= torch.nn.BCEWithLogitsLoss().to(device)\n",
        "        self.model.eval()  #setting the model in evaluation mode\n",
        "        val_stat={}\n",
        "        all_accuracy=[]\n",
        "        all_loss=[]\n",
        "        all_predictions=[]\n",
        "        all_labels=[]\n",
        "        total_num=0\n",
        "        with torch.no_grad():\n",
        "            running_loss_per_batch=[]\n",
        "            for images, labels in self.test_dataloader:\n",
        "                images, labels= images.to(device), labels.to(device)\n",
        "                pred_logits = self.model(images).float()\n",
        "                labels_tensor = labels.clone().detach()\n",
        "                pred_labels= (F.sigmoid(pred_logits)>0.5).int()\n",
        "                loss=criterion(pred_logits, labels_tensor.type_as(pred_logits))\n",
        "                accuracy= torch.sum(torch.eq(pred_labels, labels)).item()\n",
        "                running_loss_per_batch.append(loss.item())    #tracking the loss, accuracy, predicted labels, and true labels\n",
        "                all_accuracy.append(accuracy)\n",
        "                all_predictions.append(pred_labels)\n",
        "                all_labels.append(labels)\n",
        "                total_num+=len(images)\n",
        "\n",
        "        val_stat['loss'] = np.mean(running_loss_per_batch)\n",
        "        val_stat['accuracy']=sum(all_accuracy)/total_num\n",
        "        val_stat['prediction']=torch.cat(all_predictions, dim=0)\n",
        "        val_stat['labels']=torch.cat(all_labels, dim=0)\n",
        "        print(f\"Test/Validation result: total sample: {total_num}, Avg loss: {val_stat['loss']:.3f}, Acc: {100*val_stat['accuracy']:.3f}%\")\n",
        "        return val_stat #returning the tracked values in the form of a dictionary\n",
        "\n",
        "\n",
        "\n",
        "    def train_reweighted(self, epochs):\n",
        "        '''trains the model using reweighted sampling approach'''\n",
        "        criterion = torch.nn.BCEWithLogitsLoss().to(self.device)\n",
        "        optimizer = torch.optim.Adam(self.model.parameters(), lr=0.001)\n",
        "        running_loss_per_epoch = []\n",
        "\n",
        "        for epoch in range(epochs):\n",
        "            self.model.train()\n",
        "            train_acc = 0\n",
        "            total_num = 0\n",
        "            running_loss = 0\n",
        "            running_loss_per_batch = []\n",
        "\n",
        "            for i, data in enumerate(self.train_dataloader):\n",
        "                # L2-L3: get data\n",
        "                images, labels = data\n",
        "                images, labels = images.to(self.device), labels.to(self.device)\n",
        "                optimizer.zero_grad()\n",
        "                # Inner loop for reweighted training\n",
        "                with metaloop(self.model, optimizer) as (inner_model, inner_optimizer):\n",
        "                    # L4-L5: 1. forward pass to compute the initial weighted loss\n",
        "                    inner_train_outputs = inner_model(images)\n",
        "                    cost = criterion(inner_train_outputs, labels.type_as(inner_train_outputs))\n",
        "\n",
        "                    eps = torch.zeros(cost.size(), requires_grad=True, device=self.device)  # sample weights\n",
        "                    inner_trainloss = torch.sum(eps * cost)\n",
        "                    # L6-L7: model parameter update\n",
        "                    inner_optimizer.step(inner_trainloss)\n",
        "\n",
        "                    # L8-L10: computes validation loss and gradients for reweighting\n",
        "                    _criterion = torch.nn.BCEWithLogitsLoss(reduction= 'mean').to(self.device)\n",
        "                    val_loss = 0\n",
        "                    val_images, val_labels = self.X_val.to(device=self.device), self.y_val.to(device=self.device)\n",
        "                    val_pred_logits = inner_model(val_images)\n",
        "                    loss = _criterion(val_pred_logits, val_labels.type_as(val_pred_logits))\n",
        "                    eps_grads= (torch.autograd.grad(loss, eps, allow_unused=True)[0].detach())\n",
        "\n",
        "                # L11: Compute weights for reweighting based on validation gradients\n",
        "                w_tilde = torch.clamp(-eps_grads, min=0)\n",
        "                norm = torch.sum(w_tilde)\n",
        "                w = w_tilde / norm if norm != 0 else w_tilde\n",
        "\n",
        "                # L12-L14: Perform standard training step using reweighted loss\n",
        "                predicted_logits = self.model(images)\n",
        "                pred_labels = (F.sigmoid(predicted_logits) > 0.5).int()\n",
        "                criterion.reduction= 'none'\n",
        "                loss = criterion(predicted_logits, labels.type_as(predicted_logits))\n",
        "                loss = torch.sum(w * loss)\n",
        "\n",
        "                # Update variables\n",
        "                loss.backward()\n",
        "                optimizer.step()\n",
        "\n",
        "                running_loss += loss.item()\n",
        "                train_acc += torch.sum(torch.eq(pred_labels, labels)).item()\n",
        "                running_loss_per_batch.append(loss.item())\n",
        "                total_num += len(images)\n",
        "\n",
        "            running_loss_per_epoch.append(np.mean(running_loss_per_batch))\n",
        "            print(\"[epoch: %d] loss: %.3f    train accuracy: %.3f\" % (epoch + 1, running_loss_per_epoch[-1], (train_acc / total_num) * 100))\n",
        "            self.test()\n",
        "\n",
        "        return running_loss_per_epoch"
      ]
    },
    {
      "cell_type": "code",
      "execution_count": null,
      "metadata": {
        "colab": {
          "base_uri": "https://localhost:8080/"
        },
        "id": "ePMJeSa1yvz3",
        "outputId": "522acb0a-813e-4b29-c2aa-323c78648e27"
      },
      "outputs": [
        {
          "name": "stdout",
          "output_type": "stream",
          "text": [
            "[epoch: 1] loss: 0.694    train accuracy: 48.520\n",
            "Test/Validation result: total sample: 1956, Avg loss: 0.693, Acc: 50.204%\n",
            "[epoch: 2] loss: 0.693    train accuracy: 48.895\n",
            "Test/Validation result: total sample: 1956, Avg loss: 0.693, Acc: 49.796%\n",
            "[epoch: 3] loss: 0.693    train accuracy: 49.354\n",
            "Test/Validation result: total sample: 1956, Avg loss: 0.693, Acc: 50.204%\n",
            "[epoch: 4] loss: 0.693    train accuracy: 49.966\n",
            "Test/Validation result: total sample: 1956, Avg loss: 0.693, Acc: 50.204%\n",
            "[epoch: 5] loss: 0.693    train accuracy: 50.408\n",
            "Test/Validation result: total sample: 1956, Avg loss: 0.693, Acc: 50.204%\n",
            "[epoch: 6] loss: 0.693    train accuracy: 50.408\n",
            "Test/Validation result: total sample: 1956, Avg loss: 0.693, Acc: 50.204%\n",
            "[epoch: 7] loss: 0.693    train accuracy: 50.408\n",
            "Test/Validation result: total sample: 1956, Avg loss: 0.693, Acc: 50.204%\n",
            "[epoch: 8] loss: 0.693    train accuracy: 49.796\n",
            "Test/Validation result: total sample: 1956, Avg loss: 0.693, Acc: 50.204%\n",
            "[epoch: 9] loss: 0.693    train accuracy: 50.408\n",
            "Test/Validation result: total sample: 1956, Avg loss: 0.693, Acc: 50.204%\n",
            "[epoch: 10] loss: 0.693    train accuracy: 49.830\n",
            "Test/Validation result: total sample: 1956, Avg loss: 0.693, Acc: 50.204%\n",
            "[epoch: 11] loss: 0.693    train accuracy: 50.408\n",
            "Test/Validation result: total sample: 1956, Avg loss: 0.693, Acc: 50.204%\n",
            "[epoch: 12] loss: 0.693    train accuracy: 49.932\n",
            "Test/Validation result: total sample: 1956, Avg loss: 0.693, Acc: 50.204%\n",
            "[epoch: 13] loss: 0.693    train accuracy: 50.408\n",
            "Test/Validation result: total sample: 1956, Avg loss: 0.693, Acc: 50.204%\n",
            "[epoch: 14] loss: 0.693    train accuracy: 50.000\n",
            "Test/Validation result: total sample: 1956, Avg loss: 0.693, Acc: 50.204%\n",
            "[epoch: 15] loss: 0.693    train accuracy: 49.422\n",
            "Test/Validation result: total sample: 1956, Avg loss: 0.693, Acc: 50.204%\n",
            "[epoch: 16] loss: 0.693    train accuracy: 50.289\n",
            "Test/Validation result: total sample: 1956, Avg loss: 0.693, Acc: 50.204%\n",
            "[epoch: 17] loss: 0.693    train accuracy: 50.408\n",
            "Test/Validation result: total sample: 1956, Avg loss: 0.693, Acc: 50.204%\n",
            "[epoch: 18] loss: 0.693    train accuracy: 50.408\n",
            "Test/Validation result: total sample: 1956, Avg loss: 0.693, Acc: 50.204%\n",
            "[epoch: 19] loss: 0.693    train accuracy: 50.408\n",
            "Test/Validation result: total sample: 1956, Avg loss: 0.693, Acc: 50.204%\n",
            "[epoch: 20] loss: 0.693    train accuracy: 49.150\n",
            "Test/Validation result: total sample: 1956, Avg loss: 0.693, Acc: 49.796%\n"
          ]
        }
      ],
      "source": [
        "# Instantiate and train model using traditional method\n",
        "model = SimpleCNN(n_out=1)\n",
        "my_trainer_normal= trainer(model, train_loader, test_loader, X_validation, y_validation, device)\n",
        "normal_losses=my_trainer_normal.train_normal(epochs= 20)\n"
      ]
    },
    {
      "cell_type": "code",
      "execution_count": null,
      "metadata": {
        "colab": {
          "base_uri": "https://localhost:8080/"
        },
        "id": "DkseamgWzMdW",
        "outputId": "6427f8b4-b894-4765-ece5-d57d441ce234"
      },
      "outputs": [
        {
          "name": "stdout",
          "output_type": "stream",
          "text": [
            "[epoch: 1] loss: 0.684    train accuracy: 50.680\n",
            "Test/Validation result: total sample: 1956, Avg loss: 0.697, Acc: 50.204%\n",
            "[epoch: 2] loss: 0.686    train accuracy: 50.408\n",
            "Test/Validation result: total sample: 1956, Avg loss: 0.697, Acc: 50.204%\n",
            "[epoch: 3] loss: 0.689    train accuracy: 50.748\n",
            "Test/Validation result: total sample: 1956, Avg loss: 0.677, Acc: 58.487%\n",
            "[epoch: 4] loss: 0.563    train accuracy: 50.935\n",
            "Test/Validation result: total sample: 1956, Avg loss: 0.458, Acc: 80.010%\n",
            "[epoch: 5] loss: 0.471    train accuracy: 50.680\n",
            "Test/Validation result: total sample: 1956, Avg loss: 0.315, Acc: 88.241%\n",
            "[epoch: 6] loss: 0.430    train accuracy: 50.374\n",
            "Test/Validation result: total sample: 1956, Avg loss: 0.251, Acc: 92.076%\n",
            "[epoch: 7] loss: 0.409    train accuracy: 50.510\n",
            "Test/Validation result: total sample: 1956, Avg loss: 0.202, Acc: 93.507%\n",
            "[epoch: 8] loss: 0.439    train accuracy: 50.663\n",
            "Test/Validation result: total sample: 1956, Avg loss: 0.219, Acc: 94.325%\n",
            "[epoch: 9] loss: 0.375    train accuracy: 50.612\n",
            "Test/Validation result: total sample: 1956, Avg loss: 0.155, Acc: 97.342%\n",
            "[epoch: 10] loss: 0.411    train accuracy: 49.949\n",
            "Test/Validation result: total sample: 1956, Avg loss: 0.107, Acc: 97.751%\n",
            "[epoch: 11] loss: 0.359    train accuracy: 49.711\n",
            "Test/Validation result: total sample: 1956, Avg loss: 0.105, Acc: 98.057%\n",
            "[epoch: 12] loss: 0.365    train accuracy: 49.949\n",
            "Test/Validation result: total sample: 1956, Avg loss: 0.099, Acc: 98.262%\n",
            "[epoch: 13] loss: 0.379    train accuracy: 50.238\n",
            "Test/Validation result: total sample: 1956, Avg loss: 0.094, Acc: 97.955%\n",
            "[epoch: 14] loss: 0.343    train accuracy: 50.102\n",
            "Test/Validation result: total sample: 1956, Avg loss: 0.077, Acc: 98.108%\n",
            "[epoch: 15] loss: 0.412    train accuracy: 50.170\n",
            "Test/Validation result: total sample: 1956, Avg loss: 0.112, Acc: 98.415%\n",
            "[epoch: 16] loss: 0.267    train accuracy: 50.544\n",
            "Test/Validation result: total sample: 1956, Avg loss: 0.060, Acc: 98.620%\n",
            "[epoch: 17] loss: 0.335    train accuracy: 50.476\n",
            "Test/Validation result: total sample: 1956, Avg loss: 0.070, Acc: 99.182%\n",
            "[epoch: 18] loss: 0.284    train accuracy: 50.408\n",
            "Test/Validation result: total sample: 1956, Avg loss: 0.048, Acc: 99.284%\n",
            "[epoch: 19] loss: 0.333    train accuracy: 50.731\n",
            "Test/Validation result: total sample: 1956, Avg loss: 0.074, Acc: 98.722%\n",
            "[epoch: 20] loss: 0.329    train accuracy: 50.731\n",
            "Test/Validation result: total sample: 1956, Avg loss: 0.056, Acc: 98.926%\n"
          ]
        }
      ],
      "source": [
        "# Instantiate and train model using proposed method\n",
        "model2= SimpleCNN(n_out=1)\n",
        "my_trainer2= trainer(model2, train_loader, test_loader, X_validation, y_validation, device)\n",
        "reweighted=my_trainer2.train_reweighted(epochs= 20)"
      ]
    },
    {
      "cell_type": "code",
      "execution_count": null,
      "metadata": {
        "colab": {
          "background_save": true
        },
        "id": "wDZ2KWXHSf9G"
      },
      "outputs": [],
      "source": []
    }
  ],
  "metadata": {
    "accelerator": "GPU",
    "colab": {
      "gpuType": "T4",
      "provenance": []
    },
    "kernelspec": {
      "display_name": "Python 3",
      "name": "python3"
    },
    "language_info": {
      "name": "python"
    }
  },
  "nbformat": 4,
  "nbformat_minor": 0
}
